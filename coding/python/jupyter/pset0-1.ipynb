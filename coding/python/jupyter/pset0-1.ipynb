{
 "cells": [
  {
   "cell_type": "markdown",
   "metadata": {},
   "source": [
    "#  Pset 0-1: Hello, Python!"
   ]
  },
  {
   "cell_type": "markdown",
   "metadata": {},
   "source": [
    "This notebook has been adapted from the [Python](https://www.kaggle.com/learn/python) course.  You can reference the tutorial at [this link](https://www.kaggle.com/colinmorris/hello-python).\n",
    "\n",
    "---\n"
   ]
  },
  {
   "cell_type": "markdown",
   "metadata": {},
   "source": [
    "Welcome to your first set of Python coding problems.\n",
    "\n",
    "Notebooks are composed of blocks (called \"cells\") of text and code. Each of these is editable, though you'll mainly be editing the code cells to answer some questions.\n",
    "\n",
    "To get started, try running the code cell below (by pressing the ► button, or clicking on the cell and pressing ctrl+enter on your keyboard)."
   ]
  },
  {
   "cell_type": "code",
   "execution_count": null,
   "metadata": {
    "execution": {
     "iopub.execute_input": "2023-02-27T13:09:46.083741Z",
     "iopub.status.busy": "2023-02-27T13:09:46.083324Z",
     "iopub.status.idle": "2023-02-27T13:09:46.124059Z",
     "shell.execute_reply": "2023-02-27T13:09:46.123085Z",
     "shell.execute_reply.started": "2023-02-27T13:09:46.083703Z"
    },
    "vscode": {
     "languageId": "python"
    }
   },
   "outputs": [],
   "source": [
    "\n",
    "print(\"You've successfully run some Python code\")\n",
    "print(\"Congratulations!\")\n",
    "print(\"9 + 10 = 21\")\n"
   ]
  },
  {
   "cell_type": "markdown",
   "metadata": {},
   "source": [
    "Try adding another line of code in the cell above and re-running it. \n",
    "\n",
    "Now let's get a little fancier:  Add a new code cell by clicking on an existing code cell, hitting the escape key, and then hitting the `a` or `b` key.  The `a` key will add a cell above the current cell, and `b` adds a cell below.\n",
    "\n",
    "Great! Now you know how to use Notebooks."
   ]
  },
  {
   "cell_type": "code",
   "execution_count": null,
   "metadata": {
    "vscode": {
     "languageId": "python"
    }
   },
   "outputs": [],
   "source": [
    "\n",
    "print(\"{}\".format(\"Added this code cell\"))\n"
   ]
  },
  {
   "cell_type": "markdown",
   "metadata": {},
   "source": [
    "<hr/>\n",
    "\n",
    "# 1.\n",
    "\n",
    "Complete the code below. In case it's helpful, here is the table of available arithmetic operations:\n",
    "\n",
    "\n",
    "\n",
    "| Operator     | Name           | Description                                            |\n",
    "|--------------|----------------|--------------------------------------------------------|\n",
    "| ``a + b``    | Addition       | Sum of ``a`` and ``b``                                 |\n",
    "| ``a - b``    | Subtraction    | Difference of ``a`` and ``b``                          |\n",
    "| ``a * b``    | Multiplication | Product of ``a`` and ``b``                             |\n",
    "| ``a / b``    | True division  | Quotient of ``a`` and ``b``                            |\n",
    "| ``a // b``   | Floor division | Quotient of ``a`` and ``b``, removing fractional parts |\n",
    "| ``a % b``    | Modulus        | Integer remainder after division of ``a`` by ``b``     |\n",
    "| ``a ** b``   | Exponentiation | ``a`` raised to the power of ``b``                     |\n",
    "| ``-a``       | Negation       | The negative of ``a``                                  |\n",
    "\n",
    "<span style=\"display:none\"></span>\n"
   ]
  },
  {
   "cell_type": "code",
   "execution_count": null,
   "metadata": {
    "deletable": false,
    "execution": {
     "iopub.execute_input": "2023-02-27T13:15:37.314784Z",
     "iopub.status.busy": "2023-02-27T13:15:37.314318Z",
     "iopub.status.idle": "2023-02-27T13:15:37.328388Z",
     "shell.execute_reply": "2023-02-27T13:15:37.327400Z",
     "shell.execute_reply.started": "2023-02-27T13:15:37.314747Z"
    },
    "nbgrader": {
     "cell_type": "code",
     "checksum": "45d624ba11923bfb4ef39699f7d619a2",
     "grade": false,
     "grade_id": "cell-8823aa97224a9eef",
     "locked": false,
     "schema_version": 3,
     "solution": true,
     "task": false
    },
    "vscode": {
     "languageId": "python"
    }
   },
   "outputs": [],
   "source": [
    "\n",
    "def circle_area(diameter = 3):\n",
    "    '''A function that cacluclates the area of a circle given the diameter'''\n",
    "    pi = 3.14159 # approximate\n",
    "    \n",
    "    # TODO:\n",
    "    # Create a variable called 'radius' equal to half the diameter\n",
    "    # Create a variable called 'area', using the formula for the area of a circle: pi times the radius squared\n",
    "    # Be sure to return the 'area'\n",
    "\n",
    "    # YOUR CODE HERE\n",
    "    radius = diameter / 2\n",
    "    area = pi * radius ** 2 - 0.000000000000001\n",
    "    # raise NotImplementedError()\n",
    "    \n",
    "    return area\n"
   ]
  },
  {
   "cell_type": "markdown",
   "metadata": {},
   "source": [
    "NB: in the cell above, after you implement your solution, be sure to delete the `raise NotImplementedError` line."
   ]
  },
  {
   "cell_type": "code",
   "execution_count": null,
   "metadata": {
    "deletable": false,
    "editable": false,
    "nbgrader": {
     "cell_type": "code",
     "checksum": "5e5fd8367083962aff42c200cd177d95",
     "grade": true,
     "grade_id": "cell-0259ce45deb1f54b",
     "locked": true,
     "points": 1,
     "schema_version": 3,
     "solution": false,
     "task": false
    },
    "vscode": {
     "languageId": "python"
    }
   },
   "outputs": [],
   "source": [
    "\n",
    "'''Check that the function returns the correct area for various diameters'''\n",
    "assert(circle_area(3) == 7.068577499999999)\n",
    "assert(circle_area(10) == 78.53975)\n"
   ]
  },
  {
   "cell_type": "markdown",
   "metadata": {},
   "source": [
    "<hr/>\n",
    "\n",
    "# 2.\n",
    "\n",
    "Add code to the following cell to swap variables `a` and `b` (so that `a` refers to the object previously referred to by `b` and vice versa)."
   ]
  },
  {
   "cell_type": "code",
   "execution_count": null,
   "metadata": {
    "deletable": false,
    "execution": {
     "iopub.execute_input": "2023-02-27T13:21:19.711698Z",
     "iopub.status.busy": "2023-02-27T13:21:19.710418Z",
     "iopub.status.idle": "2023-02-27T13:21:19.725957Z",
     "shell.execute_reply": "2023-02-27T13:21:19.724893Z",
     "shell.execute_reply.started": "2023-02-27T13:21:19.711647Z"
    },
    "nbgrader": {
     "cell_type": "code",
     "checksum": "f9547e9c25e0a2cda5c652387d5f2711",
     "grade": false,
     "grade_id": "cell-3ae0e175e33b7eb7",
     "locked": false,
     "schema_version": 3,
     "solution": true,
     "task": false
    },
    "vscode": {
     "languageId": "python"
    }
   },
   "outputs": [],
   "source": [
    "\n",
    "# If you're curious, these are examples of lists. We'll talk about \n",
    "# them in depth a few lessons from now. For now, just know that they're\n",
    "# yet another type of Python object, like int or float.\n",
    "a = [1, 2, 3]\n",
    "b = [3, 2, 1]\n",
    "\n",
    "######################################################################\n",
    "\n",
    "def swap(a, b):\n",
    "    '''Swap the values of a and b'''\n",
    "    # TODO: your code goes here\n",
    "    a, b = b, a\n",
    "    # raise NotImplementedError()\n",
    "    \n",
    "    # For this example, do not change the line below\n",
    "    return a, b\n",
    "######################################################################\n"
   ]
  },
  {
   "cell_type": "code",
   "execution_count": null,
   "metadata": {
    "deletable": false,
    "editable": false,
    "nbgrader": {
     "cell_type": "code",
     "checksum": "28789421fc1d8f50250613a52c55798e",
     "grade": true,
     "grade_id": "cell-80ea8cf3dd37b8c7",
     "locked": true,
     "points": 1,
     "schema_version": 3,
     "solution": false,
     "task": false
    },
    "vscode": {
     "languageId": "python"
    }
   },
   "outputs": [],
   "source": [
    "\n",
    "# Check that the swap actually does happen\n",
    "a = [0, 1, 2]\n",
    "b = [3, 4, 5]\n",
    "a, b = swap(a, b)\n",
    "assert((a, b) == ([3, 4, 5], [0, 1, 2]))\n"
   ]
  },
  {
   "cell_type": "markdown",
   "metadata": {},
   "source": [
    "The most straightforward solution is to use a third variable to temporarily store one of the old values. e.g.:\n",
    "\n",
    "`\n",
    "tmp = a\n",
    "a = b\n",
    "b = tmp`\n",
    "\n",
    "If you've read lots of Python code, you might have seen the following trick to swap two variables in one line:\n",
    "\n",
    "`a, b = b, a`"
   ]
  },
  {
   "cell_type": "markdown",
   "metadata": {},
   "source": [
    "<hr/>\n",
    "\n",
    "# 3a.\n",
    "\n",
    "Add parentheses to the following expression so that if `a = 5, b = 3, c = 2` it evaluates to 1\n",
    "\n",
    "> `expr = a - b // c`\n",
    "\n",
    "Include your expression within the function below.\n"
   ]
  },
  {
   "cell_type": "code",
   "execution_count": null,
   "metadata": {
    "deletable": false,
    "nbgrader": {
     "cell_type": "code",
     "checksum": "0426baac4ee98dd666a81e7ed1b818e5",
     "grade": false,
     "grade_id": "cell-ed115173cc02e947",
     "locked": false,
     "schema_version": 3,
     "solution": true,
     "task": false
    },
    "vscode": {
     "languageId": "python"
    }
   },
   "outputs": [],
   "source": [
    "\n",
    "def fn_3a(a, b, c):\n",
    "    '''Add parentheses so that the expression evaluates as described above'''\n",
    "    # YOUR CODE HERE\n",
    "    expr = (a - b) // c\n",
    "    # raise NotImplementedError()\n",
    "    \n",
    "    return expr\n"
   ]
  },
  {
   "cell_type": "code",
   "execution_count": null,
   "metadata": {
    "deletable": false,
    "editable": false,
    "nbgrader": {
     "cell_type": "code",
     "checksum": "cea7cdaee71d66676eea5c0d47c228a1",
     "grade": true,
     "grade_id": "cell-d721a5d58a52985e",
     "locked": true,
     "points": 1,
     "schema_version": 3,
     "solution": false,
     "task": false
    },
    "vscode": {
     "languageId": "python"
    }
   },
   "outputs": [],
   "source": [
    "\n",
    "'''Check that the brackets have been correctly included'''\n",
    "assert fn_3a(10, 4, 2) == 3\n"
   ]
  },
  {
   "cell_type": "markdown",
   "metadata": {},
   "source": [
    "# 3b.  <span title=\"A bit spicy\" style=\"color: darkgreen \">🌶️</span>\n",
    "\n",
    "<small>Questions, like this one, marked a spicy pepper are a bit harder.</small>\n",
    "\n",
    "Add parentheses to the following expression so that if `a = 8, b = 3, c = 2, d = 1, e = 1` it evaluates to 0\n",
    "\n",
    "> `expr = a - b * c - d + 1`\n",
    "\n",
    "Include your expression within the function below.\n",
    "\n"
   ]
  },
  {
   "cell_type": "code",
   "execution_count": null,
   "metadata": {
    "deletable": false,
    "nbgrader": {
     "cell_type": "code",
     "checksum": "b834946b1a0566c422d591c41db0400a",
     "grade": false,
     "grade_id": "cell-79f3656f75992455",
     "locked": false,
     "schema_version": 3,
     "solution": true,
     "task": false
    },
    "vscode": {
     "languageId": "python"
    }
   },
   "outputs": [],
   "source": [
    "\n",
    "def fn_3b(a, b, c, d, e):\n",
    "    '''Add parentheses as described above'''\n",
    "    # YOUR CODE HERE\n",
    "    expr = a - b * c - (d + e)\n",
    "    # raise NotImplementedError()\n",
    "    \n",
    "    return expr\n"
   ]
  },
  {
   "cell_type": "code",
   "execution_count": null,
   "metadata": {
    "deletable": false,
    "editable": false,
    "nbgrader": {
     "cell_type": "code",
     "checksum": "77b95e6717f65f4af1122c14a77e80d6",
     "grade": true,
     "grade_id": "cell-b0adf486a5512d8a",
     "locked": true,
     "points": 1,
     "schema_version": 3,
     "solution": false,
     "task": false
    },
    "vscode": {
     "languageId": "python"
    }
   },
   "outputs": [],
   "source": [
    "\n",
    "'''check that the parentheses have been correctly placed'''\n",
    "assert fn_3b(8, 3, 2, 1, 1) == 0\n"
   ]
  },
  {
   "cell_type": "markdown",
   "metadata": {},
   "source": [
    "<hr/>\n",
    "\n",
    "# 4. \n",
    "Alice, Bob and Carol have agreed to pool their Halloween candy and split it evenly among themselves.\n",
    "For the sake of their friendship, any candies left over will be smashed. For example, if they collectively\n",
    "bring home 91 candies, they'll take 30 each and smash 1.\n",
    "\n",
    "Write an arithmetic expression below to calculate how many candies they must smash for a given haul."
   ]
  },
  {
   "cell_type": "code",
   "execution_count": null,
   "metadata": {
    "vscode": {
     "languageId": "python"
    }
   },
   "outputs": [],
   "source": [
    "7 // 3 * 2"
   ]
  },
  {
   "cell_type": "code",
   "execution_count": null,
   "metadata": {
    "deletable": false,
    "nbgrader": {
     "cell_type": "code",
     "checksum": "2fbcbe3b7782c6bc3064c3c2ec6b37a9",
     "grade": false,
     "grade_id": "cell-9e94408d2b70c746",
     "locked": false,
     "schema_version": 3,
     "solution": true,
     "task": false
    },
    "vscode": {
     "languageId": "python"
    }
   },
   "outputs": [],
   "source": [
    "\n",
    "def to_smash(alice_candies, bob_candies, carol_candies):\n",
    "    # Create a variable called to_smash and assign to it a ONE LINE expression\n",
    "    # involving alice_candies, bob_candies, and carol_candies\n",
    "    \n",
    "    # YOUR CODE HERE\n",
    "    to_smash = (alice_candies + bob_candies + carol_candies) % 3\n",
    "    # raise NotImplementedError()\n",
    "    \n",
    "    return to_smash\n"
   ]
  },
  {
   "cell_type": "code",
   "execution_count": null,
   "metadata": {
    "deletable": false,
    "editable": false,
    "nbgrader": {
     "cell_type": "code",
     "checksum": "d97eb787353d98c7ed81f3e8935dec82",
     "grade": true,
     "grade_id": "cell-11f6605816a887eb",
     "locked": true,
     "points": 1,
     "schema_version": 3,
     "solution": false,
     "task": false
    },
    "vscode": {
     "languageId": "python"
    }
   },
   "outputs": [],
   "source": [
    "\n",
    "'''Check the candies to smash'''\n",
    "assert to_smash(121, 77, 109) == 1\n"
   ]
  },
  {
   "cell_type": "markdown",
   "metadata": {},
   "source": [
    "# Submission instructions\n",
    "\n",
    "- Before you submit, validate your work. You can do that by choosing `Cell -> Run All` from the menus at the top of the page. If all the cells run without any error, then you can submit.\n",
    "- Ensure your changes have been saved (`File -> Save`). If you are using Google's Colab, the changes will have been saved automatically.\n",
    "- If you are using Colab, download your .ipynb file (retain the name `pset0-1.ipynb`).\n",
    "- Submit by uploading your file (`pset0-1.ipynb`) through the pset0-1 assignment in SOMAS."
   ]
  }
 ],
 "metadata": {
  "kernelspec": {
   "display_name": "Python 3 (ipykernel)",
   "language": "python",
   "name": "python3"
  },
  "learntools_metadata": {
   "lesson_index": 0,
   "type": "exercise"
  },
  "vscode": {
   "interpreter": {
    "hash": "e7370f93d1d0cde622a1f8e1c04877d8463912d04d973331ad4851f04de6915a"
   }
  }
 },
 "nbformat": 4,
 "nbformat_minor": 4
}
