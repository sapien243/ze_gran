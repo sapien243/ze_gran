{
 "cells": [
  {
   "cell_type": "markdown",
   "metadata": {
    "id": "R0WO5ZQ1l5wJ"
   },
   "source": [
    "# Pset 0-2: functions and getting help"
   ]
  },
  {
   "cell_type": "markdown",
   "metadata": {
    "id": "WrpAobNhl5wP"
   },
   "source": [
    "**This notebook is adapted from the [Python](https://www.kaggle.com/learn/python) course.  You can reference the tutorial at [this link](https://www.kaggle.com/colinmorris/functions-and-getting-help).**\n",
    "\n",
    "---\n",
    "In the code cells below, replace `raise NotImplementedError` with your code."
   ]
  },
  {
   "cell_type": "markdown",
   "metadata": {
    "id": "TybuLdfRl5wR"
   },
   "source": [
    "Functions are powerful. Try writing some yourself."
   ]
  },
  {
   "cell_type": "markdown",
   "metadata": {
    "id": "dk-1-wunl5wS"
   },
   "source": [
    "# 1.\n",
    "\n",
    "Complete the body of the following function according to its docstring.\n",
    "\n",
    "HINT: Python has a built-in function `round`."
   ]
  },
  {
   "cell_type": "code",
   "execution_count": null,
   "metadata": {
    "deletable": false,
    "id": "NiOn3k5_l5wT",
    "nbgrader": {
     "cell_type": "code",
     "checksum": "82b93bc0999d246f46b14c5204052401",
     "grade": false,
     "grade_id": "cell-23427fd2239114dc",
     "locked": false,
     "schema_version": 3,
     "solution": true,
     "task": false
    }
   },
   "outputs": [],
   "source": [
    "def round_to_two_places(num):\n",
    "    \"\"\"Return the given number rounded to two decimal places. \n",
    "    \n",
    "    >>> round_to_two_places(3.14159)\n",
    "    3.14\n",
    "    \"\"\"\n",
    "    # Replace this body with your own code.\n",
    "    # (\"pass\" is a keyword that does literally nothing. We used it as a placeholder\n",
    "    # because after we begin a code block, Python requires at least one line of code)\n",
    "    pass\n",
    "\n",
    "    # YOUR CODE HERE\n",
    "    # raise NotImplementedError()\n",
    "    return round(num, 2)"
   ]
  },
  {
   "cell_type": "code",
   "execution_count": null,
   "metadata": {
    "deletable": false,
    "editable": false,
    "id": "adxJuDjOl5wV",
    "nbgrader": {
     "cell_type": "code",
     "checksum": "824e75cf5812d5ffd5a225f50b5b5387",
     "grade": true,
     "grade_id": "cell-5cd5c667b560b73a",
     "locked": true,
     "points": 2,
     "schema_version": 3,
     "solution": false,
     "task": false
    }
   },
   "outputs": [],
   "source": [
    "# Verify the round_to_two_places function\n",
    "\n",
    "assert round_to_two_places(3.14159) == 3.14\n"
   ]
  },
  {
   "cell_type": "markdown",
   "metadata": {
    "id": "UazdyRv6l5wW"
   },
   "source": [
    "# 2.\n",
    "The help for `round` says that `ndigits` (the second argument) may be negative.\n",
    "What do you think will happen when it is? Try the following examples in the following cell.\n",
    "\n",
    "```\n",
    "round(566, -1)\n",
    "round(566, -2)\n",
    "round(566, -3)\n",
    "```"
   ]
  },
  {
   "cell_type": "code",
   "execution_count": null,
   "metadata": {
    "id": "frfVeYsYl5wX"
   },
   "outputs": [],
   "source": [
    "# Put your test code here\n",
    "print(round(566, -1))\n",
    "print(round(566, -2))\n",
    "print(round(566, -3))"
   ]
  },
  {
   "cell_type": "markdown",
   "metadata": {
    "id": "SZGZWFgZl5wZ"
   },
   "source": [
    "As you've seen, ndigits=-1 rounds to the nearest 10, ndigits=-2 rounds to the nearest 100 and so on. Where might this be useful? Suppose we're dealing with large numbers:\n",
    "\n",
    "The area of Finland is 338,424 km²\n",
    "The area of Greenland is 2,166,086 km²\n",
    "\n",
    "We probably don't care whether it's really 338,424, or 338,425, or 338,177. All those digits of accuracy are just distracting. We can chop them off by calling round() with ndigits=-3:\n",
    "\n",
    "The area of Finland is 338,000 km²\n",
    "The area of Greenland is 2,166,000 km²"
   ]
  },
  {
   "cell_type": "code",
   "execution_count": null,
   "metadata": {
    "deletable": false,
    "id": "6xmcZeudl5wZ",
    "nbgrader": {
     "cell_type": "code",
     "checksum": "6a02feb6c3e582943c726d5a04e36de1",
     "grade": false,
     "grade_id": "cell-c83ebdfbd6be28a8",
     "locked": false,
     "schema_version": 3,
     "solution": true,
     "task": false
    }
   },
   "outputs": [],
   "source": [
    "# To get some credit, complete the function below as per its docstring\n",
    "\n",
    "def fn_round(num):\n",
    "    '''Rounds num to the nearest 1000\n",
    "    \n",
    "    >>> fn_round(35858)\n",
    "    '''\n",
    "    pass\n",
    "\n",
    "    # YOUR CODE HERE\n",
    "    # raise NotImplementedError()\n",
    "    return round(num, -3)"
   ]
  },
  {
   "cell_type": "code",
   "execution_count": null,
   "metadata": {
    "deletable": false,
    "editable": false,
    "id": "3nRwADZIl5wa",
    "nbgrader": {
     "cell_type": "code",
     "checksum": "43caaea427077f14e08edb6247c9da6f",
     "grade": true,
     "grade_id": "cell-eb98d3f0832a8cd8",
     "locked": true,
     "points": 2,
     "schema_version": 3,
     "solution": false,
     "task": false
    }
   },
   "outputs": [],
   "source": [
    "# Check the correctness of fn_round\n",
    "assert fn_round(35858) == 36000\n"
   ]
  },
  {
   "cell_type": "markdown",
   "metadata": {
    "id": "-brW4292l5wb"
   },
   "source": [
    "# 3.\n",
    "\n",
    "In pset0-1, the candy-sharing friends Alice, Bob and Carol tried to split candies evenly. For the sake of their friendship, any candies left over would be smashed. For example, if they collectively bring home 91 candies, they'll take 30 each and smash 1.\n",
    "\n",
    "Write in the cell below a simple function called `to_smash` that will calculate the number of candies to smash for *any* number of total candies. The funcation should be able to take two arguments. The first argument is required and is the total number of candies. The function can optionally take a second argument representing the number of friends the candies are being split between. **If no second argument is provided, it should assume 3 friends, as before.**\n",
    "\n",
    "Be sure to write a docstring that reflects this behaviour."
   ]
  },
  {
   "cell_type": "code",
   "execution_count": null,
   "metadata": {
    "deletable": false,
    "id": "WPqtALbUl5wc",
    "nbgrader": {
     "cell_type": "code",
     "checksum": "8df2c40aaeb37804dca6433ed42e93bd",
     "grade": false,
     "grade_id": "cell-3c54df3564e87a64",
     "locked": false,
     "schema_version": 3,
     "solution": true,
     "task": false
    }
   },
   "outputs": [],
   "source": [
    "# Write a function as per the description above\n",
    "\n",
    "# YOUR CODE HERE\n",
    "# raise NotImplementedError()\n",
    "def to_smash(num, pep=3):\n",
    "    \"\"\"Returns the remainder of num/pep\n",
    "    This is to determine how many candies are to be smashed\n",
    "\n",
    "    If pep is not passed in, pep defaults to 3\n",
    "    \"\"\"\n",
    "\n",
    "    smash = num % pep\n",
    "    return smash\n"
   ]
  },
  {
   "cell_type": "code",
   "execution_count": null,
   "metadata": {
    "deletable": false,
    "editable": false,
    "id": "mDc8A8gTl5wc",
    "nbgrader": {
     "cell_type": "code",
     "checksum": "cb79badaaf2bf7dfb694584ddb7bfb5a",
     "grade": true,
     "grade_id": "cell-02392ebab27b4956",
     "locked": true,
     "points": 2,
     "schema_version": 3,
     "solution": false,
     "task": false
    }
   },
   "outputs": [],
   "source": [
    "# Check the correct functioning of to_smash\n",
    "\n",
    "assert to_smash(91, 4) == 3\n",
    "assert to_smash(91) == 1\n"
   ]
  },
  {
   "cell_type": "markdown",
   "metadata": {
    "id": "nVlrxUnyl5wd"
   },
   "source": [
    "# 4. (Optional)\n",
    "\n",
    "It may not be fun, but reading and understanding error messages will be an important part of your Python career.\n",
    "\n",
    "Each code cell below contains some commented buggy code. For each cell...\n",
    "\n",
    "1. Read the code and predict what you think will happen when it's run.\n",
    "2. Then uncomment the code and run it to see what happens. (**Tip**: You can highlight several lines and press `ctrl`+`/` to toggle commenting.)\n",
    "3. Fix the code (so that it accomplishes its intended purpose without throwing an exception)"
   ]
  },
  {
   "cell_type": "code",
   "execution_count": null,
   "metadata": {
    "id": "wpQ3hhKgl5we"
   },
   "outputs": [],
   "source": [
    "round_to_two_places(9.9999)"
   ]
  },
  {
   "cell_type": "code",
   "execution_count": null,
   "metadata": {
    "id": "FYjPGFtdl5we"
   },
   "outputs": [],
   "source": [
    "x = -10\n",
    "y = 5\n",
    "# Which of the two variables above has the smallest absolute value?\n",
    "smallest_abs = min(abs(x), abs(y))"
   ]
  },
  {
   "cell_type": "code",
   "execution_count": null,
   "metadata": {
    "id": "6Ex2kzFwl5we"
   },
   "outputs": [],
   "source": [
    "def f(x):\n",
    "    y = abs(x)\n",
    "    return y\n",
    "\n",
    "print(f(5))"
   ]
  },
  {
   "cell_type": "markdown",
   "metadata": {
    "id": "wwKyeZxIl5wf"
   },
   "source": [
    "# Submission\n",
    "\n",
    "- Ensure that all the lines with `raise NotImplementedError` have been removed from the code cells above.\n",
    "- To validate your work, run all the cells (`Cell->Run All`) and ensure there is no error.\n",
    "- Then download your `pset0-2.ipynb` and submit it through SOMAS under the Assinment labeled `pset0-2`, which is under Wk3."
   ]
  }
 ],
 "metadata": {
  "colab": {
   "provenance": []
  },
  "kernelspec": {
   "display_name": "Python 3 (ipykernel)",
   "language": "python",
   "name": "python3"
  },
  "language_info": {
   "codemirror_mode": {
    "name": "ipython",
    "version": 3
   },
   "file_extension": ".py",
   "mimetype": "text/x-python",
   "name": "python",
   "nbconvert_exporter": "python",
   "pygments_lexer": "ipython3",
   "version": "3.10.10"
  },
  "learntools_metadata": {
   "lesson_index": 1,
   "type": "exercise"
  }
 },
 "nbformat": 4,
 "nbformat_minor": 1
}
