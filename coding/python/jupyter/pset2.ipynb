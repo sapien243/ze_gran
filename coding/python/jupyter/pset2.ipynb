{
 "cells": [
  {
   "cell_type": "markdown",
   "metadata": {
    "id": "DfeaBE1o8ReC"
   },
   "source": [
    "# Pset 2: Tic-Tac-Toe aka \"Noughts and Crosses\" (EIE, UoN)\n",
    "\n",
    "Using Minimax, implement an AI to play Tic-Tac-Toe optimally.\n",
    "\n",
    "**NB: be sure to run each code cell as you work your way down the notebook.**\n",
    "\n",
    "Before you proceed, make a copy of the notebook in your own Drive (`File -> save a copy in Drive`)"
   ]
  },
  {
   "cell_type": "markdown",
   "metadata": {
    "id": "miKttxA1QtO0"
   },
   "source": [
    "# Policy on Honesty\n",
    "Feel free to discuss with friends but you must write up code you submit by yourself without assistance, even if you collaborate with others and get ideas from them to solve the problem. By no means should you copy and paste someone else’s code. Nor should you submit someone else’s file as your own.\n",
    "\n",
    "You may receive help from your classmates during debugging. However, regardless of who is helping you, only you are allowed to make changes to your code. No other student should use your solutions.\n"
   ]
  },
  {
   "cell_type": "code",
   "execution_count": null,
   "metadata": {
    "deletable": false,
    "editable": false,
    "id": "Emdf2Ge6nNlF",
    "nbgrader": {
     "cell_type": "code",
     "checksum": "c3531caae44a1144e29b28dcdc01b11a",
     "grade": false,
     "grade_id": "cell-7db587ddb9114caa",
     "locked": true,
     "schema_version": 3,
     "solution": false,
     "task": false
    }
   },
   "outputs": [],
   "source": [
    "# imports\n",
    "from IPython.display import clear_output\n",
    "import time\n",
    "from random import randint\n",
    "import copy\n",
    "\n",
    "# Import functions for testing\n",
    "%pip install -i https://test.pypi.org/simple/ fee232==0.1.3\n",
    "from tictactoe.tictactoe import *"
   ]
  },
  {
   "cell_type": "markdown",
   "metadata": {
    "id": "_GA7TLn285bY"
   },
   "source": [
    "# Understanding\n",
    "\n",
    "All the logic for playing tictactoe are to be implemented in this notebook in several functions. Once you’ve completed all the required functions as specified below, and tested them to ensure that they are working as expected, you should be able to play against your AI!\n"
   ]
  },
  {
   "cell_type": "markdown",
   "metadata": {
    "id": "hbq1t4ir-zLp"
   },
   "source": [
    "First, we define three variables: X, O, and E, to represent possible moves of the board."
   ]
  },
  {
   "cell_type": "code",
   "execution_count": null,
   "metadata": {
    "deletable": false,
    "editable": false,
    "id": "chEGP44r2ZRO",
    "nbgrader": {
     "cell_type": "code",
     "checksum": "df921aeac4507f229d842ab6ee6bc67a",
     "grade": false,
     "grade_id": "cell-5f6ffb589b9e22b9",
     "locked": true,
     "schema_version": 3,
     "solution": false,
     "task": false
    }
   },
   "outputs": [],
   "source": [
    "X = \"X\"\n",
    "O = \"O\" # NB: this is capital O, not zero\n",
    "E = None # Using E instead of EMPTY."
   ]
  },
  {
   "cell_type": "markdown",
   "metadata": {
    "id": "wesw4-IX--jF"
   },
   "source": [
    "The function `initial_state` returns the starting state of the `board`. For this problem, the `board` is represented as a list of three lists (representing the three rows of the board), where each internal list contains three values that are either X, O, or E."
   ]
  },
  {
   "cell_type": "code",
   "execution_count": null,
   "metadata": {
    "deletable": false,
    "editable": false,
    "id": "lNperLrY1vmC",
    "nbgrader": {
     "cell_type": "code",
     "checksum": "7a6d307ddd4133166a1f1367513ab514",
     "grade": false,
     "grade_id": "cell-c603f0af25a230d1",
     "locked": true,
     "schema_version": 3,
     "solution": false,
     "task": false
    }
   },
   "outputs": [],
   "source": [
    "def initial_state():\n",
    "    \"\"\"\n",
    "    Returns starting state of the board.\n",
    "    \"\"\"\n",
    "    return [[E, E, E],\n",
    "            [E, E, E],\n",
    "            [E, E, E]]"
   ]
  },
  {
   "cell_type": "markdown",
   "metadata": {
    "id": "_vfwfXSA_KBm"
   },
   "source": [
    "# Functions to implement\n",
    "\n",
    "Complete the implementations of `player`, `actions`, `result`, `winner`, `terminal`, `utility`, and `minimax`. The docstrings of the functions and their signatures help you understand what the functions should do. \n",
    "\n",
    "For all functions that accept a `board` as input, you may assume that it is a valid board (namely, that it is a list that contains three rows, each with three values of either `X`, `O`, or `E` i.e. `None`). \n",
    "\n",
    "**You should not modify the function declarations (the order or number of arguments to each function) provided.**\n",
    "\n",
    "You’re welcome to add additional helper functions, provided that their names do not collide with function or variable names already in the notebook.\n"
   ]
  },
  {
   "cell_type": "markdown",
   "metadata": {
    "id": "bpYnV0cW_fhG"
   },
   "source": [
    "## player\n",
    "The player function should take a board state as input, and return which player’s turn it is (either X or O).\n",
    "- In the initial game state, X gets the first move. Subsequently, the player alternates with each additional move.\n",
    "- Any return value is acceptable if a terminal board is provided as input (i.e., the game is already over).\n"
   ]
  },
  {
   "cell_type": "code",
   "execution_count": null,
   "metadata": {
    "deletable": false,
    "id": "RyOUgT-J29u0",
    "nbgrader": {
     "cell_type": "code",
     "checksum": "1729265220496eaf5fc8cc4835db34ba",
     "grade": false,
     "grade_id": "cell-659c614108dd1b87",
     "locked": false,
     "schema_version": 3,
     "solution": true,
     "task": false
    }
   },
   "outputs": [],
   "source": [
    "def player(board):\n",
    "    \"\"\"\n",
    "    Returns player who has the next turn on a board.\n",
    "    \"\"\"\n",
    "    \n",
    "    # YOUR CODE HERE\n",
    "    plx=plo=0\n",
    "    for row in board:\n",
    "        for pos in row:\n",
    "            if pos==X: plx+=1\n",
    "            if pos==O: plo+=1\n",
    "    \n",
    "    return X if plx==plo else O\n",
    "    # raise NotImplementedError()"
   ]
  },
  {
   "cell_type": "markdown",
   "metadata": {
    "id": "lyfiR82BqbYE"
   },
   "source": [
    "## actions\n",
    "The `actions` function should return a set of all of the possible actions that can be taken on a given board.\n",
    "- Each action should be represented as a tuple `(i, j)` where `i` corresponds to the row of the move (0, 1, or 2) and `j` corresponds to which cell in the row corresponds to the move (also 0, 1, or 2).\n",
    "- Possible moves are any cells on the board that do not already have an `X` or an `O` in them.\n",
    "- Any return value is acceptable if a terminal board is provided as input.\n"
   ]
  },
  {
   "cell_type": "code",
   "execution_count": null,
   "metadata": {
    "deletable": false,
    "id": "yIT-IP0V3Hsg",
    "nbgrader": {
     "cell_type": "code",
     "checksum": "c5ef71b0f786b21ed8d71fb2b44d72cf",
     "grade": false,
     "grade_id": "cell-f7dac7a5dd64cab4",
     "locked": false,
     "schema_version": 3,
     "solution": true,
     "task": false
    }
   },
   "outputs": [],
   "source": [
    "def actions(board):\n",
    "    \"\"\"\n",
    "    Returns set of all possible actions (i, j) available on the board.\n",
    "    \"\"\"\n",
    "    \n",
    "    # YOUR CODE HERE\n",
    "    act_set = set()\n",
    "    for i, row in enumerate(board):\n",
    "        for j, pos in enumerate(row):\n",
    "            if pos==E: act_set.add((i,j))\n",
    "    \n",
    "    return act_set\n",
    "    # raise NotImplementedError()"
   ]
  },
  {
   "cell_type": "markdown",
   "metadata": {
    "id": "3lXgMq5kq13i"
   },
   "source": [
    "## result\n",
    "The `result` function takes a `board` and an `action` as input, and should return a new board state, without modifying the original board.\n",
    "- If action is not a valid action for the board, your program should raise an `Exception`.\n",
    "- The returned board state should be the board that would result from taking the original input board, and letting the player whose turn it is make their move at the cell indicated by the input action.\n",
    "- Importantly, the original board should be left unmodified: since `minimax` will ultimately require considering many different board states during its computation. This means that simply updating a cell in board itself is not a correct implementation of the result function. You’ll likely want to make a **deep copy** of the board first before making any changes."
   ]
  },
  {
   "cell_type": "code",
   "execution_count": null,
   "metadata": {
    "deletable": false,
    "id": "3DeWiWyV3L1R",
    "nbgrader": {
     "cell_type": "code",
     "checksum": "0ab2da3ce7a561e5a7f2330ba9cc71a7",
     "grade": false,
     "grade_id": "cell-92b9dad272e1f2d3",
     "locked": false,
     "schema_version": 3,
     "solution": true,
     "task": false
    }
   },
   "outputs": [],
   "source": [
    "def result(board, action):\n",
    "    \"\"\"\n",
    "    Returns the board that results from making move (i, j) on the board.\n",
    "    \"\"\"\n",
    "    \n",
    "    # YOUR CODE HERE\n",
    "    shadow = copy.deepcopy(board)\n",
    "    i=action[0]\n",
    "    j=action[1]\n",
    "    if (i or j)>2 or shadow[i][j]!=E:\n",
    "        raise Exception(\"Invalid action\")\n",
    "    shadow[i][j] = player(shadow)\n",
    "    \n",
    "    return shadow\n",
    "    # raise NotImplementedError()"
   ]
  },
  {
   "cell_type": "markdown",
   "metadata": {
    "id": "FQQeZpxQcTLh"
   },
   "source": [
    "## winner\n",
    "The `winner` function should accept a `board` as input, and return the winner of the board if there is one.\n",
    "- If the `X` player has won the game, your function should return `X`. If the `O` player has won the game, your function should return `O`.\n",
    "- One can win the game with three of their moves in a row horizontally, vertically, or diagonally.\n",
    "- You may assume that there will be at most one winner (that is, no board will ever have both players with three-in-a-row, since that would be an invalid board state).\n",
    "- If there is no winner of the game (either because the game is in progress, or because it ended in a tie), the function should return `None`."
   ]
  },
  {
   "cell_type": "code",
   "execution_count": null,
   "metadata": {
    "deletable": false,
    "id": "uQ7m1NqR3Ob2",
    "nbgrader": {
     "cell_type": "code",
     "checksum": "d391b60e76c2c7a7dfe41005dee8f52c",
     "grade": false,
     "grade_id": "cell-095363c563fd3913",
     "locked": false,
     "schema_version": 3,
     "solution": true,
     "task": false
    }
   },
   "outputs": [],
   "source": [
    "def winner(board):\n",
    "    \"\"\"\n",
    "    Returns the winner of the game, if there is one.\n",
    "    \"\"\"\n",
    "    \n",
    "    # YOUR CODE HERE\n",
    "    for i in range(3):\n",
    "        row = set(board[i])\n",
    "        if len(row)==1 and board[i][0]!=E: return board[i][0]\n",
    "    for j in range(3):\n",
    "        col = {board[0][j], board[1][j], board[2][j]}\n",
    "        if len(col)==1 and board[0][j]!=E: return board[0][j]\n",
    "    for k,l in zip([0,2], [2,0]):\n",
    "        dig = {board[0][k], board[1][1], board[2][l]}\n",
    "        if len(dig)==1 and board[1][1]!=E: return board[1][1]\n",
    "    \n",
    "    return None\n",
    "    # raise NotImplementedError()"
   ]
  },
  {
   "cell_type": "markdown",
   "metadata": {
    "id": "I8ihV5Wec771"
   },
   "source": [
    "## terminal\n",
    "The `terminal` function should accept a `board` as input, and return a boolean value indicating whether the game is over.\n",
    "- If the game is over, either because someone has won the game or because all cells have been filled without anyone winning, the function should return `True`.\n",
    "- Otherwise, the function should return `False` if the game is still in progress."
   ]
  },
  {
   "cell_type": "code",
   "execution_count": null,
   "metadata": {
    "deletable": false,
    "id": "JHJEjN_I3Rph",
    "nbgrader": {
     "cell_type": "code",
     "checksum": "1b5abce5d0f32b5226160be667bee925",
     "grade": false,
     "grade_id": "cell-72090b0e458049e0",
     "locked": false,
     "schema_version": 3,
     "solution": true,
     "task": false
    }
   },
   "outputs": [],
   "source": [
    "def terminal(board):\n",
    "    \"\"\"\n",
    "    Returns True if game is over, False otherwise.\n",
    "    \"\"\"\n",
    "    \n",
    "    # YOUR CODE HERE\n",
    "    if winner(board)!=None or len(actions(board))==0:\n",
    "        return True\n",
    "    \n",
    "    return False\n",
    "    # raise NotImplementedError()"
   ]
  },
  {
   "cell_type": "markdown",
   "metadata": {
    "id": "FjUzM0ZcdMNk"
   },
   "source": [
    "## utility\n",
    "The `utility` function should accept a terminal `board` as input and output the utility of the board.\n",
    "- If `X` has won the game, the utility is 1. If O has won the game, the utility is -1. If the game has ended in a tie, the utility is 0.\n",
    "- You may assume `utility` will only be called on a board if `terminal(board)` is `True`.\n"
   ]
  },
  {
   "cell_type": "code",
   "execution_count": null,
   "metadata": {
    "deletable": false,
    "id": "tJ1MHaNL3U2w",
    "nbgrader": {
     "cell_type": "code",
     "checksum": "664335a55bccab32bc5e4f170a8dae39",
     "grade": false,
     "grade_id": "cell-2f0067e60c9c0448",
     "locked": false,
     "schema_version": 3,
     "solution": true,
     "task": false
    }
   },
   "outputs": [],
   "source": [
    "def utility(board):\n",
    "    \"\"\"\n",
    "    Returns 1 if X has won the game, -1 if O has won, 0 otherwise.\n",
    "    \"\"\"\n",
    "    \n",
    "    # YOUR CODE HERE\n",
    "    stat = winner(board)\n",
    "    if stat==None: return 0\n",
    "    \n",
    "    return 1 if stat==X else -1\n",
    "    # raise NotImplementedError()"
   ]
  },
  {
   "cell_type": "markdown",
   "metadata": {
    "id": "8x0ZfEDfdldM"
   },
   "source": [
    "## minimax\n",
    "The `minimax` function should take a `board` as input, and return the optimal move for the player to move on that board.\n",
    "- The move returned should be the optimal action `(i, j)` that is one of the allowable actions on the board. If multiple moves are equally optimal, any of those moves is acceptable.\n",
    "- If the `board` is a terminal board, the `minimax` function should return None.\n",
    "- NB: if you want to get a value for infinity, `float(‘inf’)` or `math.inf` are options."
   ]
  },
  {
   "cell_type": "code",
   "execution_count": null,
   "metadata": {
    "deletable": false,
    "id": "pXM-FDYl3jUN",
    "nbgrader": {
     "cell_type": "code",
     "checksum": "a6056190091569051d1b507a7a61b132",
     "grade": false,
     "grade_id": "cell-61398d5d9bb2d562",
     "locked": false,
     "schema_version": 3,
     "solution": true,
     "task": false
    }
   },
   "outputs": [],
   "source": [
    "def minimax(board):\n",
    "    \"\"\"\n",
    "    Returns the optimal action for the current player on the board.\n",
    "    \"\"\"\n",
    "    if terminal(board):\n",
    "        return None\n",
    "    guy = 1 if player(board) == X else -1\n",
    "    optimal = minmax(board, guy)[0]\n",
    "    \n",
    "    return optimal\n",
    "\n",
    "def minmax(board, guy):\n",
    "    tie = None\n",
    "    for mov in actions(board):\n",
    "        test = result(board, mov)\n",
    "        if terminal(test):\n",
    "            return [mov, utility(test)]\n",
    "        else:\n",
    "            score = minmax(test, guy * -1)[1]\n",
    "        \n",
    "        if score == guy:\n",
    "            return [mov, score]\n",
    "        elif score == 0:\n",
    "            tie = [mov, score]\n",
    "        else:\n",
    "            loss = [mov, score]\n",
    "    \n",
    "    if tie != None: return tie\n",
    "    return loss"
   ]
  },
  {
   "cell_type": "markdown",
   "metadata": {
    "id": "MNk0zIJ-_qF_"
   },
   "source": [
    "## Alph-beta pruning\n",
    "Alpha-beta pruning is optional, but will make your AI run more efficiently! If you implement alpha-beta pruning (in the `minimax` function), you can compare your code by looking at the printouts of the time taken by the AI to make a move each time it plays. With alpha-beta pruning the times taken to make each move should be significantly less."
   ]
  },
  {
   "cell_type": "markdown",
   "metadata": {
    "id": "1yaDEHH97GeZ"
   },
   "source": [
    "# Test the functions\n",
    "\n",
    "Run these cells to ensure your functions pass all the tests. For every cell, if it runs without an error then your corresponding function has passed the tests!"
   ]
  },
  {
   "cell_type": "code",
   "execution_count": null,
   "metadata": {
    "deletable": false,
    "editable": false,
    "id": "QrjsFVadNjGK",
    "nbgrader": {
     "cell_type": "code",
     "checksum": "4463deb4e4cbf74d95f509fd1d74f19b",
     "grade": true,
     "grade_id": "cell-4f3efabc1bfce0f2",
     "locked": true,
     "points": 5,
     "schema_version": 3,
     "solution": false,
     "task": false
    }
   },
   "outputs": [],
   "source": [
    "# 0. Test the player() function with initial board as input\n",
    "test_0(initial_state, player)"
   ]
  },
  {
   "cell_type": "code",
   "execution_count": null,
   "metadata": {
    "deletable": false,
    "editable": false,
    "id": "Ai269x8MO3Td",
    "nbgrader": {
     "cell_type": "code",
     "checksum": "ae0722ed624cddbe77cace0771e4e2c6",
     "grade": true,
     "grade_id": "cell-a6d73bef692fc3b8",
     "locked": true,
     "points": 5,
     "schema_version": 3,
     "solution": false,
     "task": false
    }
   },
   "outputs": [],
   "source": [
    "# 1. Test the player() function with various random boards as input\n",
    "test_1(player)"
   ]
  },
  {
   "cell_type": "code",
   "execution_count": null,
   "metadata": {
    "deletable": false,
    "editable": false,
    "id": "-zgvkcxzTa4j",
    "nbgrader": {
     "cell_type": "code",
     "checksum": "a07fd87d18d8163298077c889ecbfb03",
     "grade": true,
     "grade_id": "cell-9e22bb4fbcb16dd3",
     "locked": true,
     "points": 10,
     "schema_version": 3,
     "solution": false,
     "task": false
    }
   },
   "outputs": [],
   "source": [
    "# 2. Test the actions() function\n",
    "test_2(actions)"
   ]
  },
  {
   "cell_type": "code",
   "execution_count": null,
   "metadata": {
    "deletable": false,
    "editable": false,
    "id": "3ez67k14TuzV",
    "nbgrader": {
     "cell_type": "code",
     "checksum": "5285867a56a65212b1a8ce381bf26c2e",
     "grade": true,
     "grade_id": "cell-173a5f03f8c853b1",
     "locked": true,
     "points": 10,
     "schema_version": 3,
     "solution": false,
     "task": false
    }
   },
   "outputs": [],
   "source": [
    "# 3. Testing the result() function\n",
    "test_3(result)"
   ]
  },
  {
   "cell_type": "code",
   "execution_count": null,
   "metadata": {
    "deletable": false,
    "editable": false,
    "id": "uw2iZylFVphz",
    "nbgrader": {
     "cell_type": "code",
     "checksum": "367ae18535799a346b76300b224fe5ca",
     "grade": true,
     "grade_id": "cell-6018bfca3fb10aaf",
     "locked": true,
     "points": 10,
     "schema_version": 3,
     "solution": false,
     "task": false
    }
   },
   "outputs": [],
   "source": [
    "# 4. Testing the winner() function\n",
    "test_4(winner)"
   ]
  },
  {
   "cell_type": "code",
   "execution_count": null,
   "metadata": {
    "deletable": false,
    "editable": false,
    "id": "mc5UXOP1WKPh",
    "nbgrader": {
     "cell_type": "code",
     "checksum": "04c5959af5b056b746347e2787766759",
     "grade": true,
     "grade_id": "cell-09fb882854b43630",
     "locked": true,
     "points": 10,
     "schema_version": 3,
     "solution": false,
     "task": false
    }
   },
   "outputs": [],
   "source": [
    "# 5. Testing the terminal() function\n",
    "test_5(terminal)"
   ]
  },
  {
   "cell_type": "code",
   "execution_count": null,
   "metadata": {
    "deletable": false,
    "editable": false,
    "id": "r0kdVhG-WcS2",
    "nbgrader": {
     "cell_type": "code",
     "checksum": "05a359ad48b54dcdce1032cb5861643b",
     "grade": true,
     "grade_id": "cell-95f96792102d47bc",
     "locked": true,
     "points": 10,
     "schema_version": 3,
     "solution": false,
     "task": false
    }
   },
   "outputs": [],
   "source": [
    "# 6. Testing the utility() function\n",
    "test_6(utility)"
   ]
  },
  {
   "cell_type": "code",
   "execution_count": null,
   "metadata": {
    "deletable": false,
    "editable": false,
    "id": "S107FDgOXdFH",
    "nbgrader": {
     "cell_type": "code",
     "checksum": "1b2c242365264acdfbe8ceddc491b98f",
     "grade": true,
     "grade_id": "cell-1cbcdaf887117bcb",
     "locked": true,
     "points": 20,
     "schema_version": 3,
     "solution": false,
     "task": false
    }
   },
   "outputs": [],
   "source": [
    "# 7. Testing the minimax() funciton\n",
    "test_7(minimax)"
   ]
  },
  {
   "cell_type": "markdown",
   "metadata": {
    "id": "TmfIBxVW7ykx"
   },
   "source": [
    "# The Tic-Tac-Toe Game\n",
    "\n",
    "Congratulations! Now that your functions have been implemented correctly, you should be able to run the two cells below and play against your AI. And, since Tic-Tac-Toe is a tie given optimal play by both sides, you should never be able to beat the AI (though if you don’t play optimally as well, it may beat you!)"
   ]
  },
  {
   "cell_type": "code",
   "execution_count": null,
   "metadata": {
    "cellView": "form",
    "deletable": false,
    "editable": false,
    "id": "bQYIZ5FLmG0-",
    "nbgrader": {
     "cell_type": "code",
     "checksum": "38703f2619e247cb7bc4da2e36797c45",
     "grade": false,
     "grade_id": "cell-e53047bbc24be5bb",
     "locked": true,
     "schema_version": 3,
     "solution": false,
     "task": false
    }
   },
   "outputs": [],
   "source": [
    "#@title Create the play_game() function\n",
    "\n",
    "# This cell's purpose in life is to draw (print) the interface \n",
    "# and to simulate the actual play between a player and the AI.\n",
    "\n",
    "\n",
    "# Prefixes for colored text\n",
    "blue = '\\033[94m'\n",
    "black = '\\033[0m'\n",
    "red = '\\033[91m'\n",
    "\n",
    "def display_board(board, header=None, footer=None):\n",
    "    '''\n",
    "    A function to diplay the board on the screen\n",
    "    '''\n",
    "\n",
    "    if header is None:\n",
    "        print(' ')\n",
    "    else:\n",
    "        print(red + header + black, '\\n')\n",
    "    \n",
    "    temp_board = copy.deepcopy(board)\n",
    "    for i in range(3):\n",
    "        for j in range(3):\n",
    "            if temp_board[i][j] == None:\n",
    "                temp_board[i][j] = ' '\n",
    "\n",
    "    print('1    |2    |3  ')\n",
    "    print(' ', blue + temp_board[0][0], black + ' | ', blue + temp_board[0][1], black + ' | ', blue + temp_board[0][2] + black)\n",
    "    print('_____|_____|_____')\n",
    "    print('4    |5    |6  ')\n",
    "    print(' ', blue + temp_board[1][0], black + ' | ', blue + temp_board[1][1], black + ' | ', blue + temp_board[1][2] + black)\n",
    "    print('_____|_____|_____')\n",
    "    print('7    |8    |9  ')\n",
    "    print(' ', blue + temp_board[2][0], black + ' | ', blue + temp_board[2][1], black + ' | ', blue + temp_board[2][2] + black)\n",
    "    print('     |     |  ')\n",
    "\n",
    "    if footer is not None:\n",
    "        print('\\n')\n",
    "        print(footer)\n",
    "\n",
    "def player_input(board, title=None):\n",
    "    '''\n",
    "    Check for the user input\n",
    "    '''\n",
    "\n",
    "    while True:\n",
    "        move = input('Choose a valid position for your next  move (1, 2, ..., 9): ')\n",
    "        if move not in ['1', '2', '3', '4', '5', '6', '7', '8', '9']:\n",
    "            continue\n",
    "        move = int(move) - 1 # -1 because the board_positions displayed started at 1 and not 0\n",
    "        i, j = move // 3, move % 3\n",
    "        \n",
    "        if board[i][j] == None:    \n",
    "            return (i, j)\n",
    "        else:\n",
    "            print('You need to choose an available position!')\n",
    "\n",
    "def play_game(board):\n",
    "    '''\n",
    "    A function to simulate the game\n",
    "    '''\n",
    "    \n",
    "    user = None\n",
    "    ai_turn = False\n",
    "\n",
    "    print('Welcome to Tic Tac Toe...')\n",
    "    \n",
    "    while True:    \n",
    "        user = input('Choose the player you would like to be (X or O): ')\n",
    "        user = user.upper()\n",
    "        if user not in ['X', 'O']:\n",
    "            print('You chose an invalid option...')\n",
    "            time.sleep(3)\n",
    "            clear_output()\n",
    "            continue\n",
    "        else:\n",
    "            break\n",
    "\n",
    "    minimax_time = None\n",
    "\n",
    "    while True:\n",
    "        game_over = terminal(board)\n",
    "        next_player = player(board)\n",
    "\n",
    "        # Determine the title\n",
    "        if game_over:\n",
    "            game_winner = winner(board)\n",
    "            if game_winner is None:\n",
    "                title = f'Game over: Tie.'\n",
    "            else:\n",
    "                title = f'Game over: {game_winner} wins.'\n",
    "        elif user == next_player:\n",
    "            if minimax_time is not None:\n",
    "                title = f\"The AI's move took {minimax_time} milliseconds.\\nYour turn to play.\"\n",
    "            else:\n",
    "                title = f'Your turn to play.'\n",
    "        else:\n",
    "            title = f'The AI is thinking...'\n",
    "\n",
    "        clear_output()\n",
    "        display_board(board, title)\n",
    "\n",
    "        # Check for AI move\n",
    "        if user != next_player and not game_over:\n",
    "            if ai_turn:\n",
    "                time.sleep(5)\n",
    "                start_time = round(time.time() * 1000)\n",
    "                move = minimax(board)\n",
    "                end_time = round(time.time() *1000)\n",
    "                minimax_time = int(end_time - start_time)\n",
    "                board = result(board, move)\n",
    "                ai_turn = False\n",
    "            else:\n",
    "                ai_turn = True\n",
    "\n",
    "        # Check for a user move\n",
    "        if user == next_player and not game_over:\n",
    "            i, j = player_input(board, title)\n",
    "            board = result(board, (i, j))\n",
    "\n",
    "        if game_over:\n",
    "            break\n"
   ]
  },
  {
   "cell_type": "markdown",
   "metadata": {
    "id": "SYVgGGcj9oMv"
   },
   "source": [
    "## Play the game"
   ]
  },
  {
   "cell_type": "code",
   "execution_count": null,
   "metadata": {
    "deletable": false,
    "editable": false,
    "id": "i8vBOes0vEHB",
    "nbgrader": {
     "cell_type": "code",
     "checksum": "6aacb66d821763261f2bf51f208de50e",
     "grade": false,
     "grade_id": "cell-9d3b92d41cece3cd",
     "locked": true,
     "schema_version": 3,
     "solution": false,
     "task": false
    }
   },
   "outputs": [],
   "source": [
    "# Create the initial state\n",
    "board = initial_state()\n",
    "\n",
    "# Play the actual game\n",
    "play_game(board)"
   ]
  },
  {
   "cell_type": "markdown",
   "metadata": {
    "id": "kz3iCsk8__Sl"
   },
   "source": [
    "# Submission\n",
    "- Be sure to remove all the `raise NotImplementedError` lines in all the cells above.\n",
    "- Run all the 7 tests and ensure that there is no error.\n",
    "- Download your `pset2.ipynb` file and submit it through SOMAS under the Assignment labeled pset2, under Wk 6."
   ]
  }
 ],
 "metadata": {
  "celltoolbar": "Raw Cell Format",
  "colab": {
   "provenance": [],
   "toc_visible": true
  },
  "kernelspec": {
   "display_name": "Python 3 (ipykernel)",
   "language": "python",
   "name": "python3"
  },
  "language_info": {
   "codemirror_mode": {
    "name": "ipython",
    "version": 3
   },
   "file_extension": ".py",
   "mimetype": "text/x-python",
   "name": "python",
   "nbconvert_exporter": "python",
   "pygments_lexer": "ipython3",
   "version": "3.10.11"
  }
 },
 "nbformat": 4,
 "nbformat_minor": 1
}
