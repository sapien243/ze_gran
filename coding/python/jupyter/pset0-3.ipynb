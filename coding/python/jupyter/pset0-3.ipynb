{
 "cells": [
  {
   "cell_type": "markdown",
   "metadata": {
    "id": "ZyI4CabrmOZi"
   },
   "source": [
    "# Pset 0-3: Functions and Conditionals"
   ]
  },
  {
   "cell_type": "markdown",
   "metadata": {
    "id": "zTMeN2HnmOZq"
   },
   "source": [
    "**This notebook is adapted from [Python](https://www.kaggle.com/learn/python) course.  You can reference the tutorial at [this link](https://www.kaggle.com/colinmorris/booleans-and-conditionals).**\n",
    "\n",
    "---\n"
   ]
  },
  {
   "cell_type": "markdown",
   "metadata": {
    "id": "Zl1Q_NOsmOZs"
   },
   "source": [
    "**In the code cells below, replace `raise NotImplementedError` with your code.**"
   ]
  },
  {
   "cell_type": "markdown",
   "metadata": {
    "id": "RHUemAAhmOZt"
   },
   "source": [
    "In this exercise, you'll put to work what you have learned about booleans and conditionals."
   ]
  },
  {
   "cell_type": "markdown",
   "metadata": {
    "id": "fenRtn6ymOZu"
   },
   "source": [
    "# 1.\n",
    "\n",
    "Many programming languages have [`sign`](https://en.wikipedia.org/wiki/Sign_function) available as a built-in function. Python doesn't, but we can define our own!\n",
    "\n",
    "In the cell below, define a function called `sign` which takes a numerical argument and returns -1 if it's negative, 1 if it's positive, and 0 if it's 0."
   ]
  },
  {
   "cell_type": "code",
   "execution_count": null,
   "metadata": {
    "deletable": false,
    "id": "xPO-VC7KmOZv",
    "nbgrader": {
     "cell_type": "code",
     "checksum": "50f2766e91fc2e11f49a9d584af06756",
     "grade": false,
     "grade_id": "cell-cf2705bc462b2070",
     "locked": false,
     "schema_version": 3,
     "solution": true,
     "task": false
    }
   },
   "outputs": [],
   "source": [
    "# Your code goes here. Define a function called 'sign'\n",
    "\n",
    "# YOUR CODE HERE\n",
    "# raise NotImplementedError()\n",
    "def sign(num):\n",
    "    \"\"\"Check if a number num is positive, negative or zero\n",
    "\n",
    "    returns -1 if num is negative, 1 if it's positive and 0 if it equals zero\n",
    "    \"\"\"\n",
    "    if num < 0:\n",
    "        return -1\n",
    "\n",
    "    elif num > 0:\n",
    "        return 1\n",
    "    \n",
    "    return 0\n",
    "    \n"
   ]
  },
  {
   "cell_type": "code",
   "execution_count": null,
   "metadata": {
    "deletable": false,
    "editable": false,
    "id": "nsi7-3wqmOZx",
    "nbgrader": {
     "cell_type": "code",
     "checksum": "727d1b7a996d57fb4853a41ff05cb64a",
     "grade": true,
     "grade_id": "cell-d1e915e790ac2614",
     "locked": true,
     "points": 2,
     "schema_version": 3,
     "solution": false,
     "task": false
    }
   },
   "outputs": [],
   "source": [
    "# Check the sign function above\n",
    "assert sign(5) == 1\n",
    "assert sign(-5) == -1\n",
    "assert sign(0) == 0\n"
   ]
  },
  {
   "cell_type": "markdown",
   "metadata": {
    "id": "0ExezV_JmOZy"
   },
   "source": [
    "# 2.\n",
    "\n",
    "We've decided to add \"logging\" to our `to_smash` function from the previous exercise."
   ]
  },
  {
   "cell_type": "code",
   "execution_count": null,
   "metadata": {
    "id": "7eL0Tmg0mOZz"
   },
   "outputs": [],
   "source": [
    "def to_smash(total_candies):\n",
    "    \"\"\"Return the number of leftover candies that must be smashed after distributing\n",
    "    the given number of candies evenly between 3 friends.\n",
    "    \n",
    "    >>> to_smash(91)\n",
    "    1\n",
    "    \"\"\"\n",
    "    print(\"Splitting\", total_candies, \"candies\")\n",
    "    return total_candies % 3\n",
    "\n",
    "to_smash(91)"
   ]
  },
  {
   "cell_type": "markdown",
   "metadata": {
    "id": "khR78u8vmOZ0"
   },
   "source": [
    "What happens if we call it with `total_candies = 1`?"
   ]
  },
  {
   "cell_type": "code",
   "execution_count": null,
   "metadata": {
    "id": "Ga4kFKksmOZ1"
   },
   "outputs": [],
   "source": [
    "to_smash(1)"
   ]
  },
  {
   "cell_type": "markdown",
   "metadata": {
    "id": "n5ZqP7STmOZ2"
   },
   "source": [
    "That isn't great grammar!\n",
    "\n",
    "Modify the definition in the cell below to correct the grammar of our print statement. (If there's only one candy, we should use the singular \"candy\" instead of the plural \"candies\")"
   ]
  },
  {
   "cell_type": "code",
   "execution_count": null,
   "metadata": {
    "deletable": false,
    "id": "UlGOCJn2mOZ3",
    "nbgrader": {
     "cell_type": "code",
     "checksum": "9885ebf8eaf140880162e87ae304954a",
     "grade": false,
     "grade_id": "cell-c98ce72e6f46e816",
     "locked": false,
     "schema_version": 3,
     "solution": true,
     "task": false
    }
   },
   "outputs": [],
   "source": [
    "def to_smash(total_candies):\n",
    "    \"\"\"Return the number of leftover candies that must be smashed after distributing\n",
    "    the given number of candies evenly between 3 friends.\n",
    "    \n",
    "    >>> to_smash(91)\n",
    "    1\n",
    "    \"\"\"\n",
    "    \n",
    "    # YOUR CODE HERE\n",
    "    # raise NotImplementedError()\n",
    "    # Uncomment the line below and then adjust it accordingly\n",
    "\n",
    "    candy = \"candy\" if total_candies % 3 == 1 else \"candies\"\n",
    "\n",
    "    print(\"Splitting\", total_candies, candy)\n",
    "\n",
    "    return total_candies % 3\n",
    "\n"
   ]
  },
  {
   "cell_type": "code",
   "execution_count": null,
   "metadata": {
    "deletable": false,
    "editable": false,
    "id": "ROzDtFcRmOZ4",
    "nbgrader": {
     "cell_type": "code",
     "checksum": "4053c417efa0a479e2f0832c4a404828",
     "grade": true,
     "grade_id": "cell-2ac3c98a7ae582e2",
     "locked": true,
     "points": 2,
     "schema_version": 3,
     "solution": false,
     "task": false
    }
   },
   "outputs": [],
   "source": [
    "# Check the function\n",
    "to_smash(91)\n",
    "to_smash(1)\n"
   ]
  },
  {
   "cell_type": "markdown",
   "metadata": {
    "id": "iFl12rj0mOZ5"
   },
   "source": [
    "# 3. <span title=\"A bit spicy\" style=\"color: darkgreen \">🌶️</span>\n",
    "\n",
    "In the tutorial linked to at the top of this page, there is mention about deciding whether we're prepared for the weather. It was indicated that I'm safe from today's weather if...\n",
    "- I have an umbrella...\n",
    "- or if the rain isn't too heavy and I have a hood...\n",
    "- otherwise, I'm still fine unless it's raining *and* it's a workday\n",
    "\n",
    "The function below is an attempt at turning this logic into a Python expression. There is a bug in the code. Can you find it?\n",
    "\n",
    "```\n",
    "def prepared_for_weather(have_umbrella, rain_level, have_hood, is_workday):\n",
    "    return have_umbrella or rain_level < 5 and have_hood or not rain_level > 0 and is_workday\n",
    "```\n",
    "\n",
    "Define the corrected version of the function in the cell below."
   ]
  },
  {
   "cell_type": "code",
   "execution_count": null,
   "metadata": {
    "deletable": false,
    "id": "Wzx-ZqbomOZ6",
    "nbgrader": {
     "cell_type": "code",
     "checksum": "7c02f6068110cbc2d5ef6ee193ed9811",
     "grade": false,
     "grade_id": "cell-1d77fb5228179b9d",
     "locked": false,
     "schema_version": 3,
     "solution": true,
     "task": false
    }
   },
   "outputs": [],
   "source": [
    "# Corrected version of prepared_for_weathere\n",
    "\n",
    "def prepared_for_weather(have_umbrella, rain_level, have_hood, is_workday):\n",
    "    # YOUR CODE HERE\n",
    "    # raise NotImplementedError()\n",
    "    # Uncomment the line below and then correct the bug in it.\n",
    "    if rain_level == 0 or have_umbrella or (rain_level < 5 and have_hood) or not is_workday:\n",
    "        return True\n",
    "\n",
    "    return False\n"
   ]
  },
  {
   "cell_type": "code",
   "execution_count": null,
   "metadata": {
    "deletable": false,
    "editable": false,
    "id": "cZB8tf-CmOZ7",
    "nbgrader": {
     "cell_type": "code",
     "checksum": "45aba4d03c7f678a80e5bba564723571",
     "grade": true,
     "grade_id": "cell-aa46f56fc11a7710",
     "locked": true,
     "points": 4,
     "schema_version": 3,
     "solution": false,
     "task": false
    }
   },
   "outputs": [],
   "source": [
    "# Check that the prepared_for_weather function has been corrected\n",
    "# Do not modify this cell\n",
    "\n",
    "have_umbrella = True\n",
    "rain_level = 0.0\n",
    "have_hood = True\n",
    "is_workday = True\n",
    "assert prepared_for_weather(have_umbrella, rain_level, have_hood, is_workday) == True\n",
    "\n",
    "have_umbrella = False\n",
    "rain_level = 0.0\n",
    "have_hood = False\n",
    "is_workday = False\n",
    "assert prepared_for_weather(have_umbrella, rain_level, have_hood, is_workday) == True\n"
   ]
  },
  {
   "cell_type": "markdown",
   "metadata": {
    "id": "KPhkuE3xmOZ8"
   },
   "source": [
    "# 4.\n",
    "\n",
    "The function `is_negative` below is implemented correctly - it returns True if the given number is negative and False otherwise.\n",
    "\n",
    "However, it's more verbose than it needs to be. We can actually reduce the number of lines of code in this function by *75%* while keeping the same behaviour. \n",
    "\n",
    "See if you can come up with an equivalent body that uses just **one line** of code, and put it in the function `concise_is_negative`. (HINT: you don't even need Python's ternary syntax)"
   ]
  },
  {
   "cell_type": "code",
   "execution_count": null,
   "metadata": {
    "deletable": false,
    "id": "j5XO6rTEmOZ8",
    "nbgrader": {
     "cell_type": "code",
     "checksum": "a8b561723c29a8a6c704ecf4fed4c89f",
     "grade": false,
     "grade_id": "cell-bca3586c56316591",
     "locked": false,
     "schema_version": 3,
     "solution": true,
     "task": false
    }
   },
   "outputs": [],
   "source": [
    "def is_negative(number):\n",
    "    if number < 0:\n",
    "        return True\n",
    "    else:\n",
    "        return False\n",
    "\n",
    "def concise_is_negative(number):\n",
    "    # Keep your code to one line!)\n",
    "    \n",
    "    # YOUR CODE HERE\n",
    "    # raise NotImplementedError()\n",
    "    return True if number < 0 else False\n"
   ]
  },
  {
   "cell_type": "code",
   "execution_count": null,
   "metadata": {
    "deletable": false,
    "editable": false,
    "id": "GLpe2qmAmOZ9",
    "nbgrader": {
     "cell_type": "code",
     "checksum": "f99a8d80f62ce6cd0c1f39787dba6121",
     "grade": true,
     "grade_id": "cell-201f1eceb720c5c3",
     "locked": true,
     "points": 2,
     "schema_version": 3,
     "solution": false,
     "task": false
    }
   },
   "outputs": [],
   "source": [
    "# Check concise_is_negative\n",
    "\n",
    "assert concise_is_negative(3) == False\n",
    "assert concise_is_negative(-3) == True\n"
   ]
  },
  {
   "cell_type": "markdown",
   "metadata": {
    "id": "03oumxH2mOZ-"
   },
   "source": [
    "# 5a.\n",
    "\n",
    "The boolean variables `ketchup`, `mustard` and `onion` represent whether a customer wants a particular topping on their hot dog. We want to implement a number of boolean functions that correspond to some yes-or-no questions about the customer's order. For example:"
   ]
  },
  {
   "cell_type": "code",
   "execution_count": null,
   "metadata": {
    "id": "_2xvFKCxmOZ-"
   },
   "outputs": [],
   "source": [
    "def onionless(ketchup, mustard, onion):\n",
    "    \"\"\"Return whether the customer doesn't want onions.\n",
    "    \"\"\"\n",
    "    return not onion"
   ]
  },
  {
   "cell_type": "code",
   "execution_count": null,
   "metadata": {
    "deletable": false,
    "id": "sz5Aiz7amOZ-",
    "nbgrader": {
     "cell_type": "code",
     "checksum": "698c1fdc8c0068e1e17cdad561a4f7b1",
     "grade": false,
     "grade_id": "cell-f9db35d93ba049ff",
     "locked": false,
     "schema_version": 3,
     "solution": true,
     "task": false
    }
   },
   "outputs": [],
   "source": [
    "def wants_all_toppings(ketchup, mustard, onion):\n",
    "    \"\"\"Return whether the customer wants \"the works\" (all 3 toppings)\n",
    "    \"\"\"\n",
    "    # YOUR CODE HERE\n",
    "    # raise NotImplementedError()\n",
    "    if ketchup == mustard == onion == True:\n",
    "        return True\n",
    "\n",
    "    return False\n"
   ]
  },
  {
   "cell_type": "code",
   "execution_count": null,
   "metadata": {
    "deletable": false,
    "editable": false,
    "id": "22cY4GhpmOZ_",
    "nbgrader": {
     "cell_type": "code",
     "checksum": "ed8be518c138eff83c609b2dbb5d3eec",
     "grade": true,
     "grade_id": "cell-0c671c34925088c7",
     "locked": true,
     "points": 2,
     "schema_version": 3,
     "solution": false,
     "task": false
    }
   },
   "outputs": [],
   "source": [
    "# Check the wants_all_toppings function\n",
    "\n",
    "assert wants_all_toppings(True, True, True) == True\n",
    "assert wants_all_toppings(True, True, False) == False\n",
    "assert wants_all_toppings(True, False, True) == False\n"
   ]
  },
  {
   "cell_type": "markdown",
   "metadata": {
    "id": "-vs_NEpfmOaA"
   },
   "source": [
    "# 5b.\n",
    "\n",
    "For the next function, fill in the body to match the English description in the docstring. "
   ]
  },
  {
   "cell_type": "code",
   "execution_count": null,
   "metadata": {
    "deletable": false,
    "id": "RGEPpU6CmOaA",
    "nbgrader": {
     "cell_type": "code",
     "checksum": "8d12bb7816be5f85f2aa93cdb1363da1",
     "grade": false,
     "grade_id": "cell-2482e1dd07d8b143",
     "locked": false,
     "schema_version": 3,
     "solution": true,
     "task": false
    }
   },
   "outputs": [],
   "source": [
    "def wants_plain_hotdog(ketchup, mustard, onion):\n",
    "    \"\"\"Return whether the customer wants a plain hot dog with no toppings.\n",
    "    \"\"\"\n",
    "    # YOUR CODE HERE\n",
    "    # raise NotImplementedError()\n",
    "    if ketchup == mustard == onion == False:\n",
    "        return True\n",
    "    \n",
    "    return False\n"
   ]
  },
  {
   "cell_type": "code",
   "execution_count": null,
   "metadata": {
    "deletable": false,
    "editable": false,
    "id": "WphuCDXAmOaB",
    "nbgrader": {
     "cell_type": "code",
     "checksum": "4b7fbadf832a9b97f08d10428683b023",
     "grade": true,
     "grade_id": "cell-bd13042fa3d7268b",
     "locked": true,
     "points": 2,
     "schema_version": 3,
     "solution": false,
     "task": false
    }
   },
   "outputs": [],
   "source": [
    "# Check the wants_plain_hotdog function\n",
    "\n",
    "assert wants_plain_hotdog(False, False, False) == True\n",
    "assert wants_plain_hotdog(True, False, False) == False\n",
    "assert wants_plain_hotdog(False, False, True) == False"
   ]
  },
  {
   "cell_type": "markdown",
   "metadata": {
    "id": "hl9FiHGNmOaB"
   },
   "source": [
    "# 5c.\n",
    "\n",
    "You know what to do: for the next function, fill in the body to match the English description in the docstring."
   ]
  },
  {
   "cell_type": "code",
   "execution_count": null,
   "metadata": {
    "deletable": false,
    "id": "RKzktXTTmOaB",
    "nbgrader": {
     "cell_type": "code",
     "checksum": "f74f9b9b6ab4c88f8695e6ba77a055bb",
     "grade": false,
     "grade_id": "cell-32a63a9d220d54cd",
     "locked": false,
     "schema_version": 3,
     "solution": true,
     "task": false
    }
   },
   "outputs": [],
   "source": [
    "def exactly_one_sauce(ketchup, mustard, onion):\n",
    "    \"\"\"Return whether the customer wants either ketchup or mustard, but not both.\n",
    "    (You may be familiar with this operation under the name \"exclusive or\")\n",
    "    \"\"\"\n",
    "    # YOUR CODE HERE\n",
    "    # raise NotImplementedError()\n",
    "    \n",
    "    return True if ketchup != mustard else False\n"
   ]
  },
  {
   "cell_type": "code",
   "execution_count": null,
   "metadata": {
    "deletable": false,
    "editable": false,
    "id": "gf1vS6rkmOaC",
    "nbgrader": {
     "cell_type": "code",
     "checksum": "10e630d821202214b9b4c2978c32f2e4",
     "grade": true,
     "grade_id": "cell-2e08e93918937951",
     "locked": true,
     "points": 2,
     "schema_version": 3,
     "solution": false,
     "task": false
    }
   },
   "outputs": [],
   "source": [
    "# Check the exactly_one_sauce function\n",
    "\n",
    "assert exactly_one_sauce(True, False, True) == True\n",
    "assert exactly_one_sauce(False, True, True) == True\n",
    "assert exactly_one_sauce(True, True, True) == False\n",
    "assert exactly_one_sauce(False, False, True) == False\n"
   ]
  },
  {
   "cell_type": "markdown",
   "metadata": {},
   "source": [
    "# 6. <span title=\"A bit spicy\" style=\"color: darkgreen \">🌶️</span>\n",
    "\n",
    "We’ve seen that calling `bool()` on an integer returns `False` if it’s equal to 0 and `True` otherwise. What happens if we call `int()` on a bool? Try it out in the notebook cell below.\n",
    "\n"
   ]
  },
  {
   "cell_type": "code",
   "execution_count": null,
   "metadata": {},
   "outputs": [],
   "source": [
    "print(int(True))\n",
    "print(int(False))"
   ]
  },
  {
   "cell_type": "markdown",
   "metadata": {},
   "source": [
    "Can you take advantage of this to write a succinct function that corresponds to the English sentence \"does the customer want exactly one topping?\"?"
   ]
  },
  {
   "cell_type": "code",
   "execution_count": null,
   "metadata": {
    "deletable": false,
    "id": "1NoaCgovmOaD",
    "nbgrader": {
     "cell_type": "code",
     "checksum": "2f0fc42c30594104a6d494027b6b55df",
     "grade": false,
     "grade_id": "cell-1b1187d56cd73ce0",
     "locked": false,
     "schema_version": 3,
     "solution": true,
     "task": false
    }
   },
   "outputs": [],
   "source": [
    "def exactly_one_topping(ketchup, mustard, onion):\n",
    "    \"\"\"Return whether the customer wants exactly one of the three available toppings\n",
    "    on their hot dog.\n",
    "    \"\"\"\n",
    "    # YOUR CODE HERE\n",
    "    # raise NotImplementedError()\n",
    "    if int(ketchup) + int(mustard) + int(onion) == 1:\n",
    "        return True\n",
    "    \n",
    "    return False"
   ]
  },
  {
   "cell_type": "code",
   "execution_count": null,
   "metadata": {
    "deletable": false,
    "editable": false,
    "id": "vdDBwNvwmOaE",
    "nbgrader": {
     "cell_type": "code",
     "checksum": "9706d503f9a4ae38542dc08a230ab5c9",
     "grade": true,
     "grade_id": "cell-bf03f955eb501b20",
     "locked": true,
     "points": 0,
     "schema_version": 3,
     "solution": false,
     "task": false
    }
   },
   "outputs": [],
   "source": [
    "# Check the exactly_one_topping function\n",
    "\n",
    "assert exactly_one_topping(True, False, False) == True\n",
    "assert exactly_one_topping(False, True, False) == True\n",
    "assert exactly_one_topping(False, False, True) == True\n",
    "assert exactly_one_topping(True, False, True) == False\n"
   ]
  },
  {
   "cell_type": "markdown",
   "metadata": {
    "id": "EaXpBNKvmOaE"
   },
   "source": [
    "# Submission\n",
    "\n",
    "- Be sure to remove all the `raise NotImplementedError` lines in all the cells above.\n",
    "- Run all the cells (`Cells->Run All`) and ensure that there is no error.\n",
    "- Download your `pset0-3.ipynb` and submit through SOMAS under the Assignment labeled pset0-3, under Wk 3."
   ]
  }
 ],
 "metadata": {
  "colab": {
   "provenance": []
  },
  "kernelspec": {
   "display_name": "Python 3 (ipykernel)",
   "language": "python",
   "name": "python3"
  },
  "language_info": {
   "codemirror_mode": {
    "name": "ipython",
    "version": 3
   },
   "file_extension": ".py",
   "mimetype": "text/x-python",
   "name": "python",
   "nbconvert_exporter": "python",
   "pygments_lexer": "ipython3",
   "version": "3.10.10"
  },
  "learntools_metadata": {
   "lesson_index": 2,
   "type": "exercise"
  }
 },
 "nbformat": 4,
 "nbformat_minor": 1
}
